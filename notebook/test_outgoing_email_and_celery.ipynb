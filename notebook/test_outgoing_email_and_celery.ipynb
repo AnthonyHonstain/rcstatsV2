{
 "cells": [
  {
   "cell_type": "code",
   "execution_count": 1,
   "metadata": {
    "collapsed": false
   },
   "outputs": [
    {
     "data": {
      "text/plain": [
       "<function core.celery.mail_single_race>"
      ]
     },
     "execution_count": 1,
     "metadata": {},
     "output_type": "execute_result"
    }
   ],
   "source": [
    "import core.celery as testing\n",
    "import imp\n",
    "\n"
   ]
  },
  {
   "cell_type": "code",
   "execution_count": 11,
   "metadata": {
    "collapsed": false
   },
   "outputs": [
    {
     "data": {
      "text/plain": [
       "<module 'core.celery' from '/home/rcstats/Desktop/rcstatsV2/rcstatsV2/core/celery.py'>"
      ]
     },
     "execution_count": 11,
     "metadata": {},
     "output_type": "execute_result"
    }
   ],
   "source": [
    "imp.reload(testing)"
   ]
  },
  {
   "cell_type": "code",
   "execution_count": 3,
   "metadata": {
    "collapsed": false
   },
   "outputs": [
    {
     "data": {
      "text/plain": [
       "<function core.celery.mail_single_race>"
      ]
     },
     "execution_count": 3,
     "metadata": {},
     "output_type": "execute_result"
    }
   ],
   "source": [
    "testing.mail_single_race"
   ]
  },
  {
   "cell_type": "code",
   "execution_count": 5,
   "metadata": {
    "collapsed": true
   },
   "outputs": [],
   "source": [
    "from django.contrib.auth.models import User\n",
    "from core.models import SingleRaceDetails"
   ]
  },
  {
   "cell_type": "code",
   "execution_count": 82,
   "metadata": {
    "collapsed": false
   },
   "outputs": [
    {
     "name": "stdout",
     "output_type": "stream",
     "text": [
      "Here are new race results you requested foo\n",
      "\n",
      "New Race Results - Tacoma RC Raceway\n",
      "\n",
      "\n",
      "Race date March 3, 2015, 8:55 p.m.\n",
      "\n",
      "http://127.0.0.1:8000/results/singleracedetail/752/ Stock Buggy A Main Round: 3 Race: 3\n",
      "\n",
      "Pos|Name|Laps|Time|Fast\n",
      "\n",
      "1|BRIAN AUTRY|22|06:17|16.745\n",
      "\n",
      "2|DUSTIN NESLER|21|06:14|17.338\n",
      "\n",
      "3|SCOTT GULISAO|21|06:15|17.236\n",
      "\n",
      "4|AUTRY, JAYSON|20|06:08|17.499\n",
      "\n",
      "5|Curtis Nesler|20|06:11|16.991\n",
      "\n",
      "6|DON SWAFFIELD|20|06:13|17.787\n",
      "\n",
      "7|JAMES ERBELE|20|06:13|17.234\n",
      "\n",
      "8|KEVIN CLINE|20|06:17|17.260\n",
      "\n",
      "9|John Mckay|18|06:11|18.595\n",
      "\n",
      "10|COLLIN MANZA|14|04:41|18.255\n",
      "\n",
      "\n",
      "\n"
     ]
    }
   ],
   "source": [
    "imp.reload(testing)\n",
    "user = User.objects.get(pk=13)\n",
    "single_race_details = SingleRaceDetails.objects.get(pk=752)\n",
    "\n",
    "\n",
    "testing._mail_single_race(user, single_race_details)\n",
    "#testing.mail_all_users(752)\n",
    "\n",
    "#testing.mail_single_race.delay(752)"
   ]
  },
  {
   "cell_type": "code",
   "execution_count": null,
   "metadata": {
    "collapsed": true
   },
   "outputs": [],
   "source": []
  },
  {
   "cell_type": "code",
   "execution_count": null,
   "metadata": {
    "collapsed": true
   },
   "outputs": [],
   "source": []
  }
 ],
 "metadata": {
  "kernelspec": {
   "display_name": "Django Shell-Plus",
   "language": "python",
   "name": "django_extensions"
  },
  "language_info": {
   "codemirror_mode": {
    "name": "ipython",
    "version": 3
   },
   "file_extension": ".py",
   "mimetype": "text/x-python",
   "name": "python",
   "nbconvert_exporter": "python",
   "pygments_lexer": "ipython3",
   "version": "3.4.0"
  }
 },
 "nbformat": 4,
 "nbformat_minor": 0
}
